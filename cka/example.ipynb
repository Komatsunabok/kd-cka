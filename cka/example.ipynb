{
 "cells": [
  {
   "cell_type": "markdown",
   "id": "5915bec2",
   "metadata": {},
   "source": [
    "データをロードする\n",
    "モデルを構成する\n",
    "CKAを計算する"
   ]
  },
  {
   "cell_type": "code",
   "execution_count": 47,
   "id": "a12e75d5",
   "metadata": {},
   "outputs": [],
   "source": [
    "import torch\n",
    "from torch.utils.data import DataLoader\n",
    "# from torchvision.datasets import CIFAR10\n",
    "from torchvision.transforms import Compose, ToTensor, Normalize\n",
    "from torchvision.models import resnet18\n",
    "from tqdm.autonotebook import tqdm\n",
    "from copy import deepcopy\n",
    "import torch.nn as nn\n",
    "\n",
    "# added by me\n",
    "import sys\n",
    "import json\n",
    "import os\n",
    "sys.path.append(os.path.abspath(\"../..\"))\n",
    "from models import model_dict\n",
    "from dataset.cifar10 import get_cifar10_dataloaders\n",
    "from dataset.cinic10 import get_cinic10_dataloaders"
   ]
  },
  {
   "cell_type": "markdown",
   "id": "1bb2e232",
   "metadata": {},
   "source": [
    "## Setup DataLoader and Models \n",
    "\n",
    "An important detail is that although we are using the Validation set for `CIFAR10`, we **shuffle** and drop the last batch. This is to ensure that 1) the batches of each epoch are mixed, and 2) each iteration has the same batch size."
   ]
  },
  {
   "cell_type": "code",
   "execution_count": null,
   "id": "47f97572",
   "metadata": {},
   "outputs": [
    {
     "name": "stdout",
     "output_type": "stream",
     "text": [
      "CINIC-10 DataLoader\n"
     ]
    }
   ],
   "source": [
    "root = \"../\"\n",
    "\n",
    "model_path = [\n",
    "    os.path.join(root, \"save/teachers/models/resnet32x4_vanilla_cifar10_trial_0_epochs_240_bs_64/resnet32x4_best.pth\"),\n",
    "    os.path.join(root, \"save/teachers/models/resnet8x4_vanilla_cifar10_trial_0_epochs_240_bs_64/resnet8x4_best.pth\"),\n",
    "    os.path.join(root, \"save/students/models/S~resnet8x4_T~resnet32x4_cifar10_kd_r~1.0_a~1.0_b~400.0_0/resnet8x4_best.pth\"),\n",
    "    os.path.join(root, \"save/students/models/S~resnet8x4_T~resnet32x4_cifar10_semckd_r~1.0_a~1.0_b~400.0_0/resnet8x4_best.pth\"),\n",
    "    os.path.join(root, \"save/teachers/models/vgg8_vanilla_cifar10_trial_0_epochs_240_bs_64/vgg8_best.pth\"),\n",
    "    os.path.join(root, \"save/teachers/models/vgg13_vanilla_cifar10_trial_0_epochs_240_bs_64/vgg13_best.pth\"),\n",
    "    os.path.join(root, \"save/teachers/models/resnet32x4_vanilla_cinic10_trial_0_epochs_240_bs_64/resnet32x4_best.pth\"),\n",
    "    os.path.join(root, \"save/teachers/models/resnet8x4_vanilla_cinic10_trial_0_epochs_240_bs_64/resnet8x4_best.pth\"),\n",
    "    os.path.join(root, \"save/students/models/S~resnet8x4_T~resnet32x4_cinic10_kd_r~1.0_a~1.0_b~400.0_0/resnet8x4_best.pth\"),\n",
    "    os.path.join(root, \"save/teachers/models/vgg8_vanilla_cinic10_trial_0_epochs_240_bs_64/vgg8_best.pth\"),\n",
    "    os.path.join(root, \"save/teachers/models/vgg13_vanilla_cinic10_trial_0_epochs_240_bs_64/vgg13_best.pth\"),\n",
    "]\n",
    "\n",
    "model_names = {\n",
    "    # CIFAR-10 models\n",
    "    model_path[0]: \"resnet32x4\",\n",
    "    model_path[1]: \"resnet8x4\",\n",
    "    model_path[2]: \"resnet8x4_kd\",\n",
    "    model_path[3]: \"resnet8x4_semckd\",\n",
    "    model_path[4]: \"vgg8\",\n",
    "    model_path[5]: \"vgg13\",\n",
    "    # CINIC-10 models\n",
    "    model_path[6]: \"resnet32x4\",\n",
    "    model_path[7]: \"resnet8x4\",\n",
    "    model_path[8]: \"resnet8x4_kd\",\n",
    "    model_path[9]: \"vgg8\",\n",
    "    model_path[10]: \"vgg13\",\n",
    "}\n",
    "\n",
    "dataset_cka = {\"cifar10\": get_cifar10_dataloaders, \"cinic10\": get_cinic10_dataloaders}\n"
   ]
  },
  {
   "cell_type": "code",
   "execution_count": null,
   "id": "559913c3",
   "metadata": {},
   "outputs": [],
   "source": [
    "# options\n",
    "root = \"../..\"\n",
    "class Opt:\n",
    "    path_t = model_path[10]\n",
    "    path_s = model_path[10]\n",
    "    gpu = 0\n",
    "\n",
    "opt = Opt()\n",
    "\n",
    "_, dataloader = dataset_cka[\"cinic10\"](batch_size=64, num_workers=4, data_folder_dir=\"../../data/cinic-10\") # only test set"
   ]
  },
  {
   "cell_type": "code",
   "execution_count": 52,
   "id": "85396c3f",
   "metadata": {},
   "outputs": [],
   "source": [
    "def get_params_from_json(json_path, item):\n",
    "    with open(json_path, \"r\") as f:\n",
    "        params = json.load(f)\n",
    "    if isinstance(item, list):\n",
    "        for key in item:\n",
    "            if key in params:\n",
    "                return params[key]\n",
    "        raise KeyError(f\"None of the keys {item} found in {json_path}\")\n",
    "    else:\n",
    "        return params[item]"
   ]
  },
  {
   "cell_type": "code",
   "execution_count": 53,
   "id": "4bb0f63b",
   "metadata": {},
   "outputs": [],
   "source": [
    "def load_model(model_path, device=\"cpu\"):\n",
    "    parent_dir = os.path.dirname(model_path)\n",
    "    parameter_json_path = os.path.join(parent_dir, \"parameters.json\")\n",
    "\n",
    "    model_name = get_params_from_json(parameter_json_path, [\"model\", \"model_s\"])\n",
    "    model_dataset = get_params_from_json(parameter_json_path, [\"dataset\"])\n",
    "    n_cls = {\n",
    "        'cifar10':10,\n",
    "        'cifar100': 100,\n",
    "        'imagenet': 1000,\n",
    "        'cinic10': 10,\n",
    "    }.get(model_dataset, None)\n",
    "    model = model_dict[model_name](num_classes=n_cls)\n",
    "\n",
    "    state_dict = torch.load(model_path, map_location=device)\n",
    "    if \"model\" in state_dict:\n",
    "        state_dict = state_dict[\"model\"]\n",
    "    model.load_state_dict(state_dict)\n",
    "    model.to(device)\n",
    "    model.eval()\n",
    "    return model"
   ]
  },
  {
   "cell_type": "code",
   "execution_count": 54,
   "id": "48229bb6",
   "metadata": {},
   "outputs": [],
   "source": [
    "# model1 = resnet18(pretrained=True).cuda()\n",
    "# model1.eval()\n",
    "# model2 = deepcopy(model1)\n",
    "# model2.eval()\n",
    "# print('Dummy models created')\n",
    "\n",
    "# GPUを使う場合\n",
    "device = torch.device(\"cuda\" if torch.cuda.is_available() else \"cpu\") # 画像がgpuにある場合はcudaを使う\n",
    "model_t = load_model(opt.path_t, device=device)\n",
    "model_s = load_model(opt.path_s, device=device)"
   ]
  },
  {
   "cell_type": "code",
   "execution_count": 55,
   "id": "1dd731d7",
   "metadata": {},
   "outputs": [
    {
     "name": "stdout",
     "output_type": "stream",
     "text": [
      "torch.Size([32, 3, 32, 32])\n"
     ]
    }
   ],
   "source": [
    "for x, y in dataloader:\n",
    "    print(x.shape)  # 例: torch.Size([256, 3, 32, 32])\n",
    "    break"
   ]
  },
  {
   "cell_type": "markdown",
   "id": "7f59e737",
   "metadata": {},
   "source": [
    "## Compute CKA "
   ]
  },
  {
   "cell_type": "code",
   "execution_count": 56,
   "id": "5fed41fb",
   "metadata": {},
   "outputs": [],
   "source": [
    "from cka import CKACalculator"
   ]
  },
  {
   "cell_type": "markdown",
   "id": "926f66b6",
   "metadata": {},
   "source": [
    "### Basic Usage \n",
    "\n",
    "Initializing the `CKACalculator` object will add forward hooks to both `model1` and `model2`. \n",
    "The default modules that are hooked are: `Bottleneck`, `BasicBlock`, `Conv2d`, `AdaptiveAvgPool2d`, `MaxPool2d`, and all instances of `BatchNorm`. \n",
    "Note that `Bottleneck` and `BasicBlock` are from the `torchvision` implementation, and will not add hooks to any custom implementations of `Bottleneck/BasicBlock`.\n",
    "\n",
    "For ResNet18, a total of 50 hooks are added.\n",
    "\n",
    "By default, the intermediate features are flattened with `flatten_hook_fn` and 10 epochs are run."
   ]
  },
  {
   "cell_type": "code",
   "execution_count": 57,
   "id": "d2212ba3",
   "metadata": {},
   "outputs": [
    {
     "name": "stdout",
     "output_type": "stream",
     "text": [
      "No hook function provided. Using flatten_hook_fn.\n",
      "11 Hooks registered. Total hooks: 11\n",
      "No hook function provided. Using flatten_hook_fn.\n",
      "11 Hooks registered. Total hooks: 11\n"
     ]
    }
   ],
   "source": [
    "layers = (nn.Conv2d,nn.Linear)\n",
    "calculator = CKACalculator(model1=model_t, model2=model_s, dataloader=dataloader, num_epochs=10, hook_layer_types=layers)"
   ]
  },
  {
   "cell_type": "markdown",
   "id": "6282ebb3",
   "metadata": {},
   "source": [
    "Now we can calculate the CKA matrix "
   ]
  },
  {
   "cell_type": "code",
   "execution_count": 58,
   "id": "e9525f51",
   "metadata": {
    "scrolled": false
   },
   "outputs": [
    {
     "data": {
      "application/vnd.jupyter.widget-view+json": {
       "model_id": "27dc95214f2a42729039a4b4846fe03f",
       "version_major": 2,
       "version_minor": 0
      },
      "text/plain": [
       "Epoch 0:   0%|          | 0/2813 [00:00<?, ?it/s]"
      ]
     },
     "metadata": {},
     "output_type": "display_data"
    },
    {
     "data": {
      "application/vnd.jupyter.widget-view+json": {
       "model_id": "b76dfdc93bbd495fb8d3a2aa1915ef3a",
       "version_major": 2,
       "version_minor": 0
      },
      "text/plain": [
       "Epoch 1:   0%|          | 0/2813 [00:00<?, ?it/s]"
      ]
     },
     "metadata": {},
     "output_type": "display_data"
    },
    {
     "data": {
      "application/vnd.jupyter.widget-view+json": {
       "model_id": "59f155f36fd84f888b0a12d913422dc7",
       "version_major": 2,
       "version_minor": 0
      },
      "text/plain": [
       "Epoch 2:   0%|          | 0/2813 [00:00<?, ?it/s]"
      ]
     },
     "metadata": {},
     "output_type": "display_data"
    },
    {
     "data": {
      "application/vnd.jupyter.widget-view+json": {
       "model_id": "d97907c1a3ab4401a3014393cddb7edc",
       "version_major": 2,
       "version_minor": 0
      },
      "text/plain": [
       "Epoch 3:   0%|          | 0/2813 [00:00<?, ?it/s]"
      ]
     },
     "metadata": {},
     "output_type": "display_data"
    },
    {
     "data": {
      "application/vnd.jupyter.widget-view+json": {
       "model_id": "5b4813905264413d83c8cc4dfea86c2c",
       "version_major": 2,
       "version_minor": 0
      },
      "text/plain": [
       "Epoch 4:   0%|          | 0/2813 [00:00<?, ?it/s]"
      ]
     },
     "metadata": {},
     "output_type": "display_data"
    },
    {
     "data": {
      "application/vnd.jupyter.widget-view+json": {
       "model_id": "53eabfc09a514a5d8611cc6cc3277378",
       "version_major": 2,
       "version_minor": 0
      },
      "text/plain": [
       "Epoch 5:   0%|          | 0/2813 [00:00<?, ?it/s]"
      ]
     },
     "metadata": {},
     "output_type": "display_data"
    },
    {
     "data": {
      "application/vnd.jupyter.widget-view+json": {
       "model_id": "13092d9e0d42402c8c03bfa5d6c6d902",
       "version_major": 2,
       "version_minor": 0
      },
      "text/plain": [
       "Epoch 6:   0%|          | 0/2813 [00:00<?, ?it/s]"
      ]
     },
     "metadata": {},
     "output_type": "display_data"
    },
    {
     "data": {
      "application/vnd.jupyter.widget-view+json": {
       "model_id": "8bee0cc1d79d4932a98a09e995ca037a",
       "version_major": 2,
       "version_minor": 0
      },
      "text/plain": [
       "Epoch 7:   0%|          | 0/2813 [00:00<?, ?it/s]"
      ]
     },
     "metadata": {},
     "output_type": "display_data"
    },
    {
     "data": {
      "application/vnd.jupyter.widget-view+json": {
       "model_id": "83cf93b2ccdb4dc2b5886bcd283e7dd5",
       "version_major": 2,
       "version_minor": 0
      },
      "text/plain": [
       "Epoch 8:   0%|          | 0/2813 [00:00<?, ?it/s]"
      ]
     },
     "metadata": {},
     "output_type": "display_data"
    },
    {
     "data": {
      "application/vnd.jupyter.widget-view+json": {
       "model_id": "da9bbece68df44d4900416f150eed068",
       "version_major": 2,
       "version_minor": 0
      },
      "text/plain": [
       "Epoch 9:   0%|          | 0/2813 [00:00<?, ?it/s]"
      ]
     },
     "metadata": {},
     "output_type": "display_data"
    },
    {
     "name": "stdout",
     "output_type": "stream",
     "text": [
      "CKA output size: torch.Size([11, 11])\n"
     ]
    }
   ],
   "source": [
    "cka_output = calculator.calculate_cka_matrix()\n",
    "print(f\"CKA output size: {cka_output.size()}\")"
   ]
  },
  {
   "cell_type": "code",
   "execution_count": 59,
   "id": "5d426723",
   "metadata": {},
   "outputs": [
    {
     "name": "stdout",
     "output_type": "stream",
     "text": [
      "type: <class 'torch.Tensor'>\n",
      "shape: torch.Size([11, 11])\n",
      "size: <built-in method size of Tensor object at 0x7576bba4b060>\n",
      "device: cuda:0\n",
      "min: 0.03518906980752945\n",
      "max: 1.0000030994415283\n",
      "sample values: tensor([1.0000, 0.8095, 0.3803, 0.3708, 0.2788, 0.2631, 0.2015, 0.0858, 0.0441,\n",
      "        0.0396], device='cuda:0')\n"
     ]
    }
   ],
   "source": [
    "print(\"type:\", type(cka_output))\n",
    "print(\"shape:\", getattr(cka_output, \"shape\", None))\n",
    "print(\"size:\", getattr(cka_output, \"size\", None))\n",
    "print(\"device:\", getattr(cka_output, \"device\", None))\n",
    "print(\"min:\", cka_output.min().item() if hasattr(cka_output, \"min\") else None)\n",
    "print(\"max:\", cka_output.max().item() if hasattr(cka_output, \"max\") else None)\n",
    "print(\"sample values:\", cka_output.flatten()[:10])"
   ]
  },
  {
   "cell_type": "code",
   "execution_count": 60,
   "id": "889346d4",
   "metadata": {},
   "outputs": [],
   "source": [
    "# print(cka_output)\n",
    "# # 保存\n",
    "# torch.save(cka_output.cpu(), \"cka_output.pt\")\n",
    "# import numpy as np\n",
    "# np.save(\"cka_output.npy\", cka_output.cpu().numpy())\n"
   ]
  },
  {
   "cell_type": "code",
   "execution_count": 61,
   "id": "30349717",
   "metadata": {},
   "outputs": [],
   "source": [
    "\n",
    "# 読み込み\n",
    "# cka_output = torch.load(\"cka_output.pt\")\n",
    "# # 読み込み\n",
    "# cka_output = torch.from_numpy(np.load(\"cka_output.npy\"))"
   ]
  },
  {
   "cell_type": "markdown",
   "id": "75f4aedb",
   "metadata": {},
   "source": [
    "#### Visualize the output\n",
    "\n",
    "Note that the returned matrix has its origin at the top left. In most papers, the CKA matrix is visualized with its origin at the bottom left. Thus, we may flip the matrix first before visualization; however, this example chooses not to."
   ]
  },
  {
   "cell_type": "code",
   "execution_count": 62,
   "id": "2ae04fc9",
   "metadata": {},
   "outputs": [],
   "source": [
    "import matplotlib.pyplot as plt\n",
    "plt.rcParams['figure.figsize'] = (7, 3)"
   ]
  },
  {
   "cell_type": "code",
   "execution_count": 63,
   "id": "1c7952cd",
   "metadata": {},
   "outputs": [
    {
     "data": {
      "text/plain": [
       "Text(0, 0.5, 'vgg13 Layers')"
      ]
     },
     "execution_count": 63,
     "metadata": {},
     "output_type": "execute_result"
    },
    {
     "data": {
      "image/png": "[encoded data removed]",
      "text/plain": [
       "<Figure size 700x300 with 2 Axes>"
      ]
     },
     "metadata": {},
     "output_type": "display_data"
    }
   ],
   "source": [
    "plt.imshow(cka_output.cpu().numpy(), cmap='inferno')\n",
    "plt.colorbar()\n",
    "plt.xlabel(model_names[opt.path_t] + ' Layers')\n",
    "plt.ylabel(model_names[opt.path_s] + ' Layers')\n",
    "# plt.title('CKA Matrix')"
   ]
  },
  {
   "cell_type": "code",
   "execution_count": 64,
   "id": "b364ea48",
   "metadata": {},
   "outputs": [
    {
     "name": "stdout",
     "output_type": "stream",
     "text": [
      "Layer 0: \tblock0.0\n",
      "Layer 1: \tblock0.3\n",
      "Layer 2: \tblock1.0\n",
      "Layer 3: \tblock1.3\n",
      "Layer 4: \tblock2.0\n",
      "Layer 5: \tblock2.3\n",
      "Layer 6: \tblock3.0\n",
      "Layer 7: \tblock3.3\n",
      "Layer 8: \tblock4.0\n",
      "Layer 9: \tblock4.3\n",
      "Layer 10: \tclassifier\n"
     ]
    }
   ],
   "source": [
    "for i, name in enumerate(calculator.module_names_X):\n",
    "    print(f\"Layer {i}: \\t{name}\")"
   ]
  },
  {
   "cell_type": "code",
   "execution_count": 65,
   "id": "74ea0a36",
   "metadata": {},
   "outputs": [
    {
     "ename": "SystemExit",
     "evalue": "",
     "output_type": "error",
     "traceback": [
      "An exception has occurred, use %tb to see the full traceback.\n",
      "\u001b[0;31mSystemExit\u001b[0m\n"
     ]
    }
   ],
   "source": [
    "# ここまで実行したい\n",
    "raise SystemExit  # ここでノートブックの実行が停止します"
   ]
  },
  {
   "cell_type": "markdown",
   "id": "e8e6cab2",
   "metadata": {},
   "source": [
    "### Advanced Usage \n",
    "\n",
    "We can customize other parameters of the `CKACalculator`. \n",
    "Most importantly, we can select which modules to hook. \n",
    "\n",
    "Before instantiating a new instance of `CKACalculator` on, make sure to first call the `reset` method. \n",
    "This clears all hooks registered in the models."
   ]
  },
  {
   "cell_type": "code",
   "execution_count": null,
   "id": "fe4a1711",
   "metadata": {},
   "outputs": [
    {
     "name": "stdout",
     "output_type": "stream",
     "text": [
      "21 handles removed.\n",
      "21 handles removed.\n"
     ]
    }
   ],
   "source": [
    "# Reset calculator to clear hooks\n",
    "calculator.reset()\n",
    "torch.cuda.empty_cache()"
   ]
  },
  {
   "cell_type": "code",
   "execution_count": null,
   "id": "ff5c78e6",
   "metadata": {},
   "outputs": [],
   "source": [
    "import torch.nn as nn"
   ]
  },
  {
   "cell_type": "markdown",
   "id": "f168ff41",
   "metadata": {},
   "source": [
    "Let's consider outputs of `Conv2d` and `BatchNorm2d` only. This will create 40 hooks.\n",
    "\n",
    "For custom layers, add the custom modules in the same manner as shown below."
   ]
  },
  {
   "cell_type": "code",
   "execution_count": null,
   "id": "9e768045",
   "metadata": {},
   "outputs": [],
   "source": [
    "layers = (nn.Conv2d, nn.BatchNorm2d)"
   ]
  },
  {
   "cell_type": "code",
   "execution_count": null,
   "id": "fd75a7d6",
   "metadata": {},
   "outputs": [
    {
     "name": "stdout",
     "output_type": "stream",
     "text": [
      "No hook function provided. Using flatten_hook_fn.\n",
      "20 Hooks registered. Total hooks: 20\n",
      "No hook function provided. Using flatten_hook_fn.\n",
      "20 Hooks registered. Total hooks: 20\n"
     ]
    }
   ],
   "source": [
    "calculator = CKACalculator(model1=model_t, model2=model_s, dataloader=dataloader, hook_layer_types=layers)"
   ]
  },
  {
   "cell_type": "code",
   "execution_count": null,
   "id": "d27ee2fb",
   "metadata": {},
   "outputs": [
    {
     "name": "stderr",
     "output_type": "stream",
     "text": [
      "Epoch 0: 100%|██████████| 313/313 [00:09<00:00, 33.59it/s] \n",
      "Epoch 1: 100%|██████████| 313/313 [00:09<00:00, 34.17it/s] \n",
      "Epoch 2: 100%|██████████| 313/313 [00:09<00:00, 33.96it/s] \n",
      "Epoch 3: 100%|██████████| 313/313 [00:09<00:00, 34.07it/s] \n",
      "Epoch 4: 100%|██████████| 313/313 [00:10<00:00, 29.56it/s] \n",
      "Epoch 5: 100%|██████████| 313/313 [00:09<00:00, 34.47it/s] \n",
      "Epoch 6: 100%|██████████| 313/313 [00:09<00:00, 34.05it/s] \n",
      "Epoch 7: 100%|██████████| 313/313 [00:09<00:00, 34.11it/s] \n",
      "Epoch 8: 100%|██████████| 313/313 [00:09<00:00, 33.50it/s] \n",
      "Epoch 9: 100%|██████████| 313/313 [00:09<00:00, 34.11it/s] \n"
     ]
    }
   ],
   "source": [
    "cka_output = calculator.calculate_cka_matrix()"
   ]
  },
  {
   "cell_type": "markdown",
   "id": "fe47c21a",
   "metadata": {},
   "source": [
    "#### Visualize output "
   ]
  },
  {
   "cell_type": "code",
   "execution_count": null,
   "id": "ff47422c",
   "metadata": {},
   "outputs": [
    {
     "data": {
      "text/plain": [
       "<matplotlib.image.AxesImage at 0x1cc6a78d450>"
      ]
     },
     "execution_count": 45,
     "metadata": {},
     "output_type": "execute_result"
    },
    {
     "data": {
      "image/png": "[encoded data removed]",
      "text/plain": [
       "<Figure size 700x300 with 1 Axes>"
      ]
     },
     "metadata": {},
     "output_type": "display_data"
    }
   ],
   "source": [
    "plt.imshow(cka_output.cpu().numpy(), cmap='inferno')\n",
    "plt.colorbar()\n",
    "plt.xlabel('Teacher Model Layers')\n",
    "plt.ylabel('Student Model Layers')"
   ]
  },
  {
   "cell_type": "markdown",
   "id": "afaa68d2",
   "metadata": {},
   "source": [
    "#### Extract module names "
   ]
  },
  {
   "cell_type": "code",
   "execution_count": null,
   "id": "b13097c6",
   "metadata": {},
   "outputs": [
    {
     "name": "stdout",
     "output_type": "stream",
     "text": [
      "Layer 0: \tconv1\n",
      "Layer 1: \tbn1\n",
      "Layer 2: \tlayer1.0.conv1\n",
      "Layer 3: \tlayer1.0.bn1\n",
      "Layer 4: \tlayer1.0.conv2\n",
      "Layer 5: \tlayer1.0.bn2\n",
      "Layer 6: \tlayer1.0.downsample.0\n",
      "Layer 7: \tlayer1.0.downsample.1\n",
      "Layer 8: \tlayer2.0.conv1\n",
      "Layer 9: \tlayer2.0.bn1\n",
      "Layer 10: \tlayer2.0.conv2\n",
      "Layer 11: \tlayer2.0.bn2\n",
      "Layer 12: \tlayer2.0.downsample.0\n",
      "Layer 13: \tlayer2.0.downsample.1\n",
      "Layer 14: \tlayer3.0.conv1\n",
      "Layer 15: \tlayer3.0.bn1\n",
      "Layer 16: \tlayer3.0.conv2\n",
      "Layer 17: \tlayer3.0.bn2\n",
      "Layer 18: \tlayer3.0.downsample.0\n",
      "Layer 19: \tlayer3.0.downsample.1\n"
     ]
    }
   ],
   "source": [
    "for i, name in enumerate(calculator.module_names_X):\n",
    "    print(f\"Layer {i}: \\t{name}\")"
   ]
  }
 ],
 "metadata": {
  "kernelspec": {
   "display_name": "kd",
   "language": "python",
   "name": "python3"
  },
  "language_info": {
   "codemirror_mode": {
    "name": "ipython",
    "version": 3
   },
   "file_extension": ".py",
   "mimetype": "text/x-python",
   "name": "python",
   "nbconvert_exporter": "python",
   "pygments_lexer": "ipython3",
   "version": "3.10.16"
  }
 },
 "nbformat": 4,
 "nbformat_minor": 5
}
